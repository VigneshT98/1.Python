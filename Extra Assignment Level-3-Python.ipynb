{
 "cells": [
  {
   "cell_type": "code",
   "execution_count": 2,
   "id": "797d3f54-2a47-4bd6-b6b9-0a97b3b0a342",
   "metadata": {},
   "outputs": [
    {
     "name": "stdin",
     "output_type": "stream",
     "text": [
      "value: 10\n"
     ]
    },
    {
     "name": "stdout",
     "output_type": "stream",
     "text": [
      "Correct\n"
     ]
    }
   ],
   "source": [
    "i=int(input('value:'))\n",
    "if(i==10):\n",
    "    print('Correct')\n",
    "    "
   ]
  },
  {
   "cell_type": "code",
   "execution_count": 6,
   "id": "547158c0-b960-455a-99e1-61f546750f2c",
   "metadata": {},
   "outputs": [
    {
     "name": "stdin",
     "output_type": "stream",
     "text": [
      "Enter the password: HOPE@123\n"
     ]
    },
    {
     "name": "stdout",
     "output_type": "stream",
     "text": [
      "correct\n"
     ]
    }
   ],
   "source": [
    "Password=input('Enter the password:')\n",
    "if(Password=='HOPE@123'):\n",
    "    print('correct')\n",
    "else:\n",
    "    print('wrong')"
   ]
  },
  {
   "cell_type": "code",
   "execution_count": 37,
   "id": "e7552afb-7913-4aaa-8fe7-2b2a5ea1f97c",
   "metadata": {},
   "outputs": [
    {
     "name": "stdin",
     "output_type": "stream",
     "text": [
      "age: 56\n"
     ]
    },
    {
     "name": "stdout",
     "output_type": "stream",
     "text": [
      "Senior Citizen\n"
     ]
    }
   ],
   "source": [
    "age=int(input('age:'))\n",
    "if(age<=17):\n",
    "    print('Children')\n",
    "elif(age<=40):\n",
    "    print('Adult')\n",
    "elif(age<=55):\n",
    "    print('Citizen')\n",
    "else:\n",
    "    print('Senior Citizen')"
   ]
  },
  {
   "cell_type": "code",
   "execution_count": 44,
   "id": "09315706-9ed5-4858-8567-0c1c44b1f1e9",
   "metadata": {},
   "outputs": [
    {
     "name": "stdin",
     "output_type": "stream",
     "text": [
      "enter the number: 10\n"
     ]
    },
    {
     "name": "stdout",
     "output_type": "stream",
     "text": [
      "10.0 :Positive number\n"
     ]
    }
   ],
   "source": [
    "Number=float(input('enter the number:'))\n",
    "if(Number>=0):\n",
    "    print(Number,':Positive number')\n",
    "else:\n",
    "    print(Number,':Negative number')"
   ]
  },
  {
   "cell_type": "code",
   "execution_count": 51,
   "id": "9db23303-fa7a-49c9-b11b-9170d6ca1427",
   "metadata": {},
   "outputs": [
    {
     "name": "stdin",
     "output_type": "stream",
     "text": [
      "enter the number: 55\n"
     ]
    },
    {
     "name": "stdout",
     "output_type": "stream",
     "text": [
      "The number 55 is divisible by 5\n"
     ]
    }
   ],
   "source": [
    "number=int(input('enter the number:'))\n",
    "if(number%5==0):\n",
    "    print('The number',number,'is divisible by 5')\n",
    "else:\n",
    "    print('The number',number,'is not divisible by 5')"
   ]
  },
  {
   "cell_type": "code",
   "execution_count": null,
   "id": "e2af4fb9-d1fe-442e-a36f-b0577d0b506f",
   "metadata": {},
   "outputs": [],
   "source": []
  }
 ],
 "metadata": {
  "kernelspec": {
   "display_name": "Python 3 (ipykernel)",
   "language": "python",
   "name": "python3"
  },
  "language_info": {
   "codemirror_mode": {
    "name": "ipython",
    "version": 3
   },
   "file_extension": ".py",
   "mimetype": "text/x-python",
   "name": "python",
   "nbconvert_exporter": "python",
   "pygments_lexer": "ipython3",
   "version": "3.12.0"
  }
 },
 "nbformat": 4,
 "nbformat_minor": 5
}
