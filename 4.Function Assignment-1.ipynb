{
 "cells": [
  {
   "cell_type": "code",
   "execution_count": 35,
   "id": "699ada6c-9e57-4d6a-a866-cc52c4a4f0b3",
   "metadata": {},
   "outputs": [],
   "source": [
    "def Subfields():\n",
    "    list=['Machine Learning','Neural Networks','Vision','Robotics','Speech Processing','Natural Language Processing']\n",
    "    return list\n"
   ]
  },
  {
   "cell_type": "code",
   "execution_count": 42,
   "id": "7237cc5c-addd-4b5e-af5f-d021120ebe44",
   "metadata": {},
   "outputs": [
    {
     "name": "stdout",
     "output_type": "stream",
     "text": [
      "Sub-fields in AI are:\n",
      "Machine Learning\n",
      "Neural Networks\n",
      "Vision\n",
      "Robotics\n",
      "Speech Processing\n",
      "Natural Language Processing\n"
     ]
    }
   ],
   "source": [
    "output=Subfields()\n",
    "print('Sub-fields in AI are:')\n",
    "for i in output:\n",
    "    print(i)"
   ]
  },
  {
   "cell_type": "code",
   "execution_count": 44,
   "id": "a5a4478b-b098-4f70-955f-a0a9fc1593f9",
   "metadata": {},
   "outputs": [],
   "source": [
    "def OddEven():\n",
    "    value=float(input('enter a number:'))\n",
    "    if(value%2==0):\n",
    "        message=print(value,'is Even number')\n",
    "    else:\n",
    "        message=print(value,'is Odd number')\n",
    "    return message\n",
    "        "
   ]
  },
  {
   "cell_type": "code",
   "execution_count": 46,
   "id": "52b2f15d-632c-496b-bcf0-01a490f0f64c",
   "metadata": {},
   "outputs": [
    {
     "name": "stdin",
     "output_type": "stream",
     "text": [
      "enter a number: 20\n"
     ]
    },
    {
     "name": "stdout",
     "output_type": "stream",
     "text": [
      "20.0 is Even number\n"
     ]
    }
   ],
   "source": [
    "OddEven()"
   ]
  },
  {
   "cell_type": "code",
   "execution_count": 140,
   "id": "32b806a9-8500-4ab9-ab36-446a82b1e795",
   "metadata": {},
   "outputs": [
    {
     "name": "stdin",
     "output_type": "stream",
     "text": [
      "Your Gender: male\n",
      "Your Age: 26\n"
     ]
    },
    {
     "name": "stdout",
     "output_type": "stream",
     "text": [
      "Eligible\n"
     ]
    }
   ],
   "source": [
    "def MarriageEligibility():\n",
    "    Gender=(input('Your Gender:'))\n",
    "    Age=int(input('Your Age:'))\n",
    "    if(Gender=='male' and Age >=21):\n",
    "        print('Eligible')\n",
    "        law = 'Eligible'\n",
    "    elif(Gender=='female' and Age>=18):\n",
    "        print('Eligible')\n",
    "        law= 'Eligible'\n",
    "    else:\n",
    "        print('Not Eligible')\n",
    "        law='Not Eligible'\n",
    "    return law\n",
    "Marriage=MarriageEligibility()\n",
    "        "
   ]
  },
  {
   "cell_type": "code",
   "execution_count": 121,
   "id": "6524e3c2-d200-4933-a578-16abf7e49c4d",
   "metadata": {},
   "outputs": [],
   "source": [
    "def Percentage():\n",
    "    subject=int(input('Subject1=')),int(input('Subject2=')),int(input('Subject3=')),int(input('Subject4=')),int(input('Subject5='))\n",
    "    total=sum(subject)\n",
    "    print('Total=',total)\n",
    "    percent=float(total/5)\n",
    "    print('Percentage=',percent)\n",
    "    return percent"
   ]
  },
  {
   "cell_type": "code",
   "execution_count": 123,
   "id": "4d472d87-166c-451a-ac5c-c4df18866043",
   "metadata": {},
   "outputs": [
    {
     "name": "stdin",
     "output_type": "stream",
     "text": [
      "Subject1= 99\n",
      "Subject2= 98\n",
      "Subject3= 97\n",
      "Subject4= 96\n",
      "Subject5= 95\n"
     ]
    },
    {
     "name": "stdout",
     "output_type": "stream",
     "text": [
      "Total= 485\n",
      "Percentage= 97.0\n"
     ]
    }
   ],
   "source": [
    "P=Percentage()"
   ]
  },
  {
   "cell_type": "code",
   "execution_count": 139,
   "id": "fc93a325-41ef-4548-9a24-eb66b04d33d1",
   "metadata": {},
   "outputs": [
    {
     "name": "stdin",
     "output_type": "stream",
     "text": [
      "Height= 32\n",
      "Breadth= 34\n"
     ]
    },
    {
     "name": "stdout",
     "output_type": "stream",
     "text": [
      "Area formula: (height*breadth)/2\n",
      "Area of triangle: 544.0\n"
     ]
    },
    {
     "name": "stdin",
     "output_type": "stream",
     "text": [
      "Height1= 2\n",
      "Height2= 4\n",
      "Breadth= 4\n"
     ]
    },
    {
     "name": "stdout",
     "output_type": "stream",
     "text": [
      "Perimeter formula: height1+height2+breadth\n",
      "Perimeter of triangle: 10.0\n"
     ]
    }
   ],
   "source": [
    "def triangle():\n",
    "    height=float(input('Height='))\n",
    "    breadth=float(input('Breadth='))\n",
    "    print('Area formula: (height*breadth)/2')\n",
    "    Area=(height*breadth)/2\n",
    "    print ('Area of triangle:',Area)\n",
    "    height1=float(input('Height1='))\n",
    "    height2=float(input('Height2='))\n",
    "    breadth=float(input('Breadth='))\n",
    "    print('Perimeter formula: height1+height2+breadth')\n",
    "    Perimeter=height1+height2+breadth\n",
    "    print('Perimeter of triangle:',Perimeter)\n",
    "    return Area, Perimeter\n",
    "t=triangle()"
   ]
  },
  {
   "cell_type": "code",
   "execution_count": null,
   "id": "d4d3a069-fca4-404b-8aca-c372b9429feb",
   "metadata": {},
   "outputs": [],
   "source": []
  }
 ],
 "metadata": {
  "kernelspec": {
   "display_name": "Python 3 (ipykernel)",
   "language": "python",
   "name": "python3"
  },
  "language_info": {
   "codemirror_mode": {
    "name": "ipython",
    "version": 3
   },
   "file_extension": ".py",
   "mimetype": "text/x-python",
   "name": "python",
   "nbconvert_exporter": "python",
   "pygments_lexer": "ipython3",
   "version": "3.12.0"
  }
 },
 "nbformat": 4,
 "nbformat_minor": 5
}
