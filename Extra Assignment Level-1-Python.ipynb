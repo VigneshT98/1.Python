{
 "cells": [
  {
   "cell_type": "code",
   "execution_count": 1,
   "id": "b544c4be-2d41-4b18-a240-a5b96a1997e6",
   "metadata": {},
   "outputs": [
    {
     "name": "stdout",
     "output_type": "stream",
     "text": [
      "HOPE AI\n"
     ]
    }
   ],
   "source": [
    "print('HOPE AI')"
   ]
  },
  {
   "cell_type": "code",
   "execution_count": 2,
   "id": "be206eef-9335-473f-9c64-986ef2dfed0d",
   "metadata": {},
   "outputs": [
    {
     "name": "stdin",
     "output_type": "stream",
     "text": [
      "Enter your institute name: HOPE AI\n"
     ]
    }
   ],
   "source": [
    "Institute=input('Enter your institute name:')"
   ]
  },
  {
   "cell_type": "code",
   "execution_count": 4,
   "id": "87c2bdc3-48f3-4e1a-a6bc-ae81a93da84d",
   "metadata": {},
   "outputs": [
    {
     "name": "stdin",
     "output_type": "stream",
     "text": [
      "Enter your Name: Vignesh\n",
      "Enter your age: 26\n",
      "Enter your school name: Veveaham\n",
      "Enter your degree: B.E ECE\n"
     ]
    }
   ],
   "source": [
    "name=input('Enter your Name:')\n",
    "age=int(input('Enter your age:'))\n",
    "school=input('Enter your school name:')\n",
    "degree=input('Enter your degree:')"
   ]
  },
  {
   "cell_type": "code",
   "execution_count": 8,
   "id": "2bc3fc3b-5a18-4684-90f7-34fb7fdaaba3",
   "metadata": {},
   "outputs": [
    {
     "name": "stdin",
     "output_type": "stream",
     "text": [
      "a= 43\n",
      "b= 34\n"
     ]
    },
    {
     "name": "stdout",
     "output_type": "stream",
     "text": [
      "Sub= 9\n"
     ]
    }
   ],
   "source": [
    "Num1=int(input('a='))\n",
    "Num2=int(input('b='))\n",
    "sub=Num1-Num2\n",
    "print('Sub=',sub)"
   ]
  },
  {
   "cell_type": "code",
   "execution_count": 10,
   "id": "a0d3ae38-87c3-4751-9f66-413c2333eb68",
   "metadata": {},
   "outputs": [
    {
     "name": "stdin",
     "output_type": "stream",
     "text": [
      "a= 43\n",
      "b= 34\n"
     ]
    },
    {
     "name": "stdout",
     "output_type": "stream",
     "text": [
      "Add= 77\n"
     ]
    }
   ],
   "source": [
    "Num1=int(input('a='))\n",
    "Num2=int(input('b='))\n",
    "add=Num1+Num2\n",
    "print('Add=',add)"
   ]
  },
  {
   "cell_type": "code",
   "execution_count": 11,
   "id": "4bd57821-e512-44e4-b2ca-ac1b95b04bcb",
   "metadata": {},
   "outputs": [
    {
     "name": "stdin",
     "output_type": "stream",
     "text": [
      "a= 63\n",
      "b= 97\n"
     ]
    },
    {
     "name": "stdout",
     "output_type": "stream",
     "text": [
      "Mul= 6111\n"
     ]
    }
   ],
   "source": [
    "Num1=int(input('a='))\n",
    "Num2=int(input('b='))\n",
    "mul=Num1*Num2\n",
    "print('Mul=',mul)"
   ]
  },
  {
   "cell_type": "code",
   "execution_count": 30,
   "id": "bce97a6b-2f13-45b7-b90b-5ec68cd55b45",
   "metadata": {},
   "outputs": [
    {
     "name": "stdin",
     "output_type": "stream",
     "text": [
      "a= 76\n",
      "b= 31\n"
     ]
    },
    {
     "name": "stdout",
     "output_type": "stream",
     "text": [
      "Float Div= 2.4516129032258065\n"
     ]
    }
   ],
   "source": [
    "Div1=int(input('a='))\n",
    "Div2=int(input('b='))\n",
    "div=Div1/Div2\n",
    "print('Float Div=',div)"
   ]
  },
  {
   "cell_type": "code",
   "execution_count": 31,
   "id": "0e741766-4d25-4b97-b0b1-b1799db0e860",
   "metadata": {},
   "outputs": [
    {
     "name": "stdin",
     "output_type": "stream",
     "text": [
      "a= 76\n",
      "b= 31\n"
     ]
    },
    {
     "name": "stdout",
     "output_type": "stream",
     "text": [
      "Floor Div= 2\n"
     ]
    }
   ],
   "source": [
    "Div1=int(input('a='))\n",
    "Div2=int(input('b='))\n",
    "div=Div1//Div2\n",
    "print('Floor Div=',div)"
   ]
  },
  {
   "cell_type": "code",
   "execution_count": 33,
   "id": "251a5cb5-1393-4f40-b00e-8475255132d6",
   "metadata": {},
   "outputs": [
    {
     "name": "stdin",
     "output_type": "stream",
     "text": [
      "a= 76\n",
      "b= 31\n"
     ]
    },
    {
     "name": "stdout",
     "output_type": "stream",
     "text": [
      "Modulo= 14\n"
     ]
    }
   ],
   "source": [
    "mod1=int(input('a='))\n",
    "mod2=int(input('b='))\n",
    "mod=mod1%mod2\n",
    "print('Modulo=',mod)"
   ]
  },
  {
   "cell_type": "code",
   "execution_count": 35,
   "id": "ee777a1b-21be-45ba-af6e-7332245834d5",
   "metadata": {},
   "outputs": [
    {
     "name": "stdin",
     "output_type": "stream",
     "text": [
      "a= 4\n",
      "b= 4\n"
     ]
    },
    {
     "name": "stdout",
     "output_type": "stream",
     "text": [
      "Power= 256\n"
     ]
    }
   ],
   "source": [
    "Pow1=int(input('a='))\n",
    "Pow2=int(input('b='))\n",
    "Pow=Pow1**Pow2\n",
    "print('Power=',Pow)"
   ]
  },
  {
   "cell_type": "code",
   "execution_count": null,
   "id": "42ca556a-0aab-45bd-acb3-9460d6bfb88d",
   "metadata": {},
   "outputs": [],
   "source": []
  }
 ],
 "metadata": {
  "kernelspec": {
   "display_name": "Python 3 (ipykernel)",
   "language": "python",
   "name": "python3"
  },
  "language_info": {
   "codemirror_mode": {
    "name": "ipython",
    "version": 3
   },
   "file_extension": ".py",
   "mimetype": "text/x-python",
   "name": "python",
   "nbconvert_exporter": "python",
   "pygments_lexer": "ipython3",
   "version": "3.12.0"
  }
 },
 "nbformat": 4,
 "nbformat_minor": 5
}
