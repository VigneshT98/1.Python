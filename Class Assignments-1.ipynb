{
 "cells": [
  {
   "cell_type": "code",
   "execution_count": 19,
   "id": "e4ab2732-d8aa-40a3-828e-254d6289beef",
   "metadata": {},
   "outputs": [
    {
     "name": "stdout",
     "output_type": "stream",
     "text": [
      "Sub-fields in AI are:\n",
      "Machine Learning\n",
      "Neural Networks\n",
      "Vision\n",
      "Robotics\n",
      "Speech Processing\n",
      "Natural Language Processing\n"
     ]
    }
   ],
   "source": [
    "class SubfieldsinAI():\n",
    "    def Subfields():\n",
    "        list=['Machine Learning','Neural Networks','Vision','Robotics','Speech Processing','Natural Language Processing']\n",
    "        return list  \n",
    "    print('Sub-fields in AI are:')\n",
    "    for i in output:\n",
    "            print(i)\n",
    "obj=SubfieldsinAI.Subfields()\n",
    "    \n"
   ]
  },
  {
   "cell_type": "code",
   "execution_count": 24,
   "id": "a923f52e-4caf-4fd2-8e69-f364e126025f",
   "metadata": {},
   "outputs": [
    {
     "name": "stdin",
     "output_type": "stream",
     "text": [
      "enter a number: 12\n"
     ]
    },
    {
     "name": "stdout",
     "output_type": "stream",
     "text": [
      "12.0 is Even number\n"
     ]
    }
   ],
   "source": [
    "class oDDEven():\n",
    "    def OddEven():\n",
    "        value=float(input('enter a number:'))\n",
    "        if(value%2==0):\n",
    "            message=print(value,'is Even number')\n",
    "        else:\n",
    "            message=print(value,'is Odd number')\n",
    "        return message\n",
    "oDDEven.OddEven()\n",
    "        "
   ]
  },
  {
   "cell_type": "code",
   "execution_count": 29,
   "id": "579eea98-334c-407b-b9fd-d14f090f2aae",
   "metadata": {},
   "outputs": [
    {
     "name": "stdin",
     "output_type": "stream",
     "text": [
      "Your Gender: male\n",
      "Your Age: 26\n"
     ]
    },
    {
     "name": "stdout",
     "output_type": "stream",
     "text": [
      "Eligible\n"
     ]
    }
   ],
   "source": [
    "class EligibilityForMarriage():\n",
    "    def MarriageEligibility():\n",
    "        Gender=(input('Your Gender:'))\n",
    "        Age=int(input('Your Age:'))\n",
    "        if(Gender=='male' and Age >=21):\n",
    "            print('Eligible')\n",
    "            law = 'Eligible'\n",
    "        elif(Gender=='female' and Age>=18):\n",
    "            print('Eligible')\n",
    "            law= 'Eligible'\n",
    "        else:\n",
    "            print('Not Eligible')\n",
    "            law='Not Eligible'\n",
    "        return law\n",
    "Eligibility= EligibilityForMarriage.MarriageEligibility()"
   ]
  },
  {
   "cell_type": "code",
   "execution_count": 31,
   "id": "40ec3992-d284-436f-a8c7-b1701e8e506f",
   "metadata": {},
   "outputs": [
    {
     "name": "stdin",
     "output_type": "stream",
     "text": [
      "Subject1= 98\n",
      "Subject2= 97\n",
      "Subject3= 96\n",
      "Subject4= 96\n",
      "Subject5= 95\n"
     ]
    },
    {
     "name": "stdout",
     "output_type": "stream",
     "text": [
      "Total= 482\n",
      "Percentage= 96.4\n"
     ]
    }
   ],
   "source": [
    "class FindPercentage():\n",
    "    def Percentage():\n",
    "        subject=int(input('Subject1=')),int(input('Subject2=')),int(input('Subject3=')),int(input('Subject4=')),int(input('Subject5='))\n",
    "        total=sum(subject)\n",
    "        print('Total=',total)\n",
    "        percent=float(total/5)\n",
    "        print('Percentage=',percent)\n",
    "        return percent\n",
    "Percent=FindPercentage.Percentage()"
   ]
  },
  {
   "cell_type": "code",
   "execution_count": 32,
   "id": "6800dc03-def5-4f66-96b5-2ab134e73701",
   "metadata": {},
   "outputs": [
    {
     "name": "stdin",
     "output_type": "stream",
     "text": [
      "Height= 32\n",
      "Breadth= 34\n"
     ]
    },
    {
     "name": "stdout",
     "output_type": "stream",
     "text": [
      "Area formula: (height*breadth)/2\n",
      "Area of triangle: 544.0\n"
     ]
    },
    {
     "name": "stdin",
     "output_type": "stream",
     "text": [
      "Height1= 2\n",
      "Height2= 4\n",
      "Breadth= 4\n"
     ]
    },
    {
     "name": "stdout",
     "output_type": "stream",
     "text": [
      "Perimeter formula: height1+height2+breadth\n",
      "Perimeter of triangle: 10.0\n"
     ]
    }
   ],
   "source": [
    "class Triangle():\n",
    "    def triangle():\n",
    "        height=float(input('Height='))\n",
    "        breadth=float(input('Breadth='))\n",
    "        print('Area formula: (height*breadth)/2')\n",
    "        Area=(height*breadth)/2\n",
    "        print ('Area of triangle:',Area)\n",
    "        height1=float(input('Height1='))\n",
    "        height2=float(input('Height2='))\n",
    "        breadth=float(input('Breadth='))\n",
    "        print('Perimeter formula: height1+height2+breadth')\n",
    "        Perimeter=height1+height2+breadth\n",
    "        print('Perimeter of triangle:',Perimeter)\n",
    "        return Area, Perimeter\n",
    "Measurement=Triangle.triangle()"
   ]
  },
  {
   "cell_type": "code",
   "execution_count": null,
   "id": "5a7dc284-ab79-43bf-b993-3201e1251564",
   "metadata": {},
   "outputs": [],
   "source": []
  }
 ],
 "metadata": {
  "kernelspec": {
   "display_name": "Python 3 (ipykernel)",
   "language": "python",
   "name": "python3"
  },
  "language_info": {
   "codemirror_mode": {
    "name": "ipython",
    "version": 3
   },
   "file_extension": ".py",
   "mimetype": "text/x-python",
   "name": "python",
   "nbconvert_exporter": "python",
   "pygments_lexer": "ipython3",
   "version": "3.12.0"
  }
 },
 "nbformat": 4,
 "nbformat_minor": 5
}
