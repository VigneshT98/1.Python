{
 "cells": [
  {
   "cell_type": "code",
   "execution_count": 1,
   "id": "3fe707c6-f51f-4225-8391-f013d6b9605e",
   "metadata": {},
   "outputs": [
    {
     "name": "stdout",
     "output_type": "stream",
     "text": [
      "Welcome to Assignment-1\n"
     ]
    }
   ],
   "source": [
    "print('Welcome to Assignment-1')"
   ]
  },
  {
   "cell_type": "code",
   "execution_count": 8,
   "id": "ebd71d1a-d115-412f-915c-e14fe891afcf",
   "metadata": {},
   "outputs": [
    {
     "name": "stdin",
     "output_type": "stream",
     "text": [
      "Num1= 10\n",
      "Num2= 20\n"
     ]
    },
    {
     "name": "stdout",
     "output_type": "stream",
     "text": [
      "Add= 30\n"
     ]
    }
   ],
   "source": [
    "value1=int(input('Num1='))\n",
    "value2=int(input('Num2='))\n",
    "Add=value1+value2\n",
    "print('Add=',Add)\n"
   ]
  },
  {
   "cell_type": "code",
   "execution_count": 20,
   "id": "f69a6df2-d4a5-46b1-8bae-64e8292f5891",
   "metadata": {},
   "outputs": [
    {
     "name": "stdin",
     "output_type": "stream",
     "text": [
      "Enter the BMI Index: 34\n"
     ]
    },
    {
     "name": "stdout",
     "output_type": "stream",
     "text": [
      "OverWeight\n"
     ]
    }
   ],
   "source": [
    "BMI=float(input('Enter the BMI Index:'))\n",
    "if(BMI<=18.4):\n",
    "    print('UnderWeight')\n",
    "elif(BMI>18.5 and BMI< 24.9):\n",
    "    print('Normal')\n",
    "elif(BMI>25):\n",
    "    print('OverWeight')"
   ]
  },
  {
   "cell_type": "code",
   "execution_count": null,
   "id": "cfb77b1c-13b1-4ab7-9a4a-523461b0a0af",
   "metadata": {},
   "outputs": [],
   "source": []
  }
 ],
 "metadata": {
  "kernelspec": {
   "display_name": "Python 3 (ipykernel)",
   "language": "python",
   "name": "python3"
  },
  "language_info": {
   "codemirror_mode": {
    "name": "ipython",
    "version": 3
   },
   "file_extension": ".py",
   "mimetype": "text/x-python",
   "name": "python",
   "nbconvert_exporter": "python",
   "pygments_lexer": "ipython3",
   "version": "3.12.0"
  }
 },
 "nbformat": 4,
 "nbformat_minor": 5
}
