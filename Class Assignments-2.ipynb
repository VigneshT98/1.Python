{
 "cells": [
  {
   "cell_type": "code",
   "execution_count": 16,
   "id": "e0ef32a4-e001-4d03-9895-4947c518fe8c",
   "metadata": {},
   "outputs": [],
   "source": [
    "from Class_Assignments_2_Library_file import MultipleFunctions"
   ]
  },
  {
   "cell_type": "code",
   "execution_count": 24,
   "id": "defbe7cd-4113-4866-a09c-58252c395233",
   "metadata": {},
   "outputs": [
    {
     "ename": "AttributeError",
     "evalue": "type object 'MultipleFunctions' has no attribute 'displaySubfield'",
     "output_type": "error",
     "traceback": [
      "\u001b[1;31m---------------------------------------------------------------------------\u001b[0m",
      "\u001b[1;31mAttributeError\u001b[0m                            Traceback (most recent call last)",
      "Cell \u001b[1;32mIn[24], line 1\u001b[0m\n\u001b[1;32m----> 1\u001b[0m \u001b[43mMultipleFunctions\u001b[49m\u001b[38;5;241;43m.\u001b[39;49m\u001b[43mdisplaySubfield\u001b[49m()\n",
      "\u001b[1;31mAttributeError\u001b[0m: type object 'MultipleFunctions' has no attribute 'displaySubfield'"
     ]
    }
   ],
   "source": [
    "MultipleFunctions.displaySubfield()"
   ]
  },
  {
   "cell_type": "code",
   "execution_count": 25,
   "id": "1a7d3005-e64b-4cce-801f-c59f35fcbaa8",
   "metadata": {},
   "outputs": [
    {
     "name": "stdin",
     "output_type": "stream",
     "text": [
      "enter a number: 23\n"
     ]
    },
    {
     "name": "stdout",
     "output_type": "stream",
     "text": [
      "23.0 is Odd number\n"
     ]
    }
   ],
   "source": [
    "MultipleFunctions.OddEven()"
   ]
  },
  {
   "cell_type": "code",
   "execution_count": 26,
   "id": "88560410-515c-441a-8de8-5c5d91cbc768",
   "metadata": {},
   "outputs": [
    {
     "name": "stdin",
     "output_type": "stream",
     "text": [
      "Your Gender: male\n",
      "Your Age: 25\n"
     ]
    },
    {
     "name": "stdout",
     "output_type": "stream",
     "text": [
      "Eligible\n"
     ]
    },
    {
     "data": {
      "text/plain": [
       "'Eligible'"
      ]
     },
     "execution_count": 26,
     "metadata": {},
     "output_type": "execute_result"
    }
   ],
   "source": [
    "MultipleFunctions.MarriageEligibility()"
   ]
  },
  {
   "cell_type": "code",
   "execution_count": 27,
   "id": "fc224884-9daa-4c12-b96b-ec4c6cf042e5",
   "metadata": {},
   "outputs": [
    {
     "name": "stdin",
     "output_type": "stream",
     "text": [
      "Subject1= 98\n",
      "Subject2= 98\n",
      "Subject3= 99\n",
      "Subject4= 96\n",
      "Subject5= 95\n"
     ]
    },
    {
     "name": "stdout",
     "output_type": "stream",
     "text": [
      "Total= 486\n",
      "Percentage= 97.2\n"
     ]
    },
    {
     "data": {
      "text/plain": [
       "97.2"
      ]
     },
     "execution_count": 27,
     "metadata": {},
     "output_type": "execute_result"
    }
   ],
   "source": [
    "MultipleFunctions.Percentage()"
   ]
  },
  {
   "cell_type": "code",
   "execution_count": 28,
   "id": "4ceb4e5c-a4fa-4527-bafa-4856545b4110",
   "metadata": {},
   "outputs": [
    {
     "name": "stdin",
     "output_type": "stream",
     "text": [
      "Height= 32\n",
      "Breadth= 34\n"
     ]
    },
    {
     "name": "stdout",
     "output_type": "stream",
     "text": [
      "Area formula: (height*breadth)/2\n",
      "Area of triangle: 544.0\n"
     ]
    },
    {
     "name": "stdin",
     "output_type": "stream",
     "text": [
      "Height1= 2\n",
      "Height2= 4\n",
      "Breadth= 4\n"
     ]
    },
    {
     "name": "stdout",
     "output_type": "stream",
     "text": [
      "Perimeter formula: height1+height2+breadth\n",
      "Perimeter of triangle: 10.0\n"
     ]
    },
    {
     "data": {
      "text/plain": [
       "(544.0, 10.0)"
      ]
     },
     "execution_count": 28,
     "metadata": {},
     "output_type": "execute_result"
    }
   ],
   "source": [
    "MultipleFunctions.triangle()"
   ]
  },
  {
   "cell_type": "code",
   "execution_count": null,
   "id": "65ca159a-c85f-4ac5-9327-a62b923cc4e4",
   "metadata": {},
   "outputs": [],
   "source": []
  }
 ],
 "metadata": {
  "kernelspec": {
   "display_name": "Python 3 (ipykernel)",
   "language": "python",
   "name": "python3"
  },
  "language_info": {
   "codemirror_mode": {
    "name": "ipython",
    "version": 3
   },
   "file_extension": ".py",
   "mimetype": "text/x-python",
   "name": "python",
   "nbconvert_exporter": "python",
   "pygments_lexer": "ipython3",
   "version": "3.12.0"
  }
 },
 "nbformat": 4,
 "nbformat_minor": 5
}
